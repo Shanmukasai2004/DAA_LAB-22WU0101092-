{
 "cells": [
  {
   "cell_type": "code",
   "execution_count": 2,
   "id": "34560e51",
   "metadata": {},
   "outputs": [
    {
     "name": "stdout",
     "output_type": "stream",
     "text": [
      "[1, 10, 2, 20, 3, 30, 4, 40]\n"
     ]
    }
   ],
   "source": [
    "print([1,10,2,20,3,30,4,40])"
   ]
  },
  {
   "cell_type": "code",
   "execution_count": 6,
   "id": "ea68e128",
   "metadata": {},
   "outputs": [
    {
     "name": "stdout",
     "output_type": "stream",
     "text": [
      "[1, 10, 2, 20, 3, 30, 4, 40]\n"
     ]
    }
   ],
   "source": [
    "array_1 = [1, 2, 3, 4]\n",
    "array_2 = [10, 20, 30, 40]\n",
    "\n",
    "mix_array = []\n",
    "\n",
    "for i in range(len(array_1)):\n",
    "    mix_array.append(array_1[i])\n",
    "    mix_array.append(array_2[i])\n",
    "\n",
    "print(mix_array)\n"
   ]
  },
  {
   "cell_type": "code",
   "execution_count": 7,
   "id": "038927d8",
   "metadata": {},
   "outputs": [
    {
     "name": "stdout",
     "output_type": "stream",
     "text": [
      "[1, 10, 2, 20, 3, 30, 4, 40]\n"
     ]
    }
   ],
   "source": [
    "array1 = [1, 2, 3, 4]\n",
    "array2 = [10, 20, 30, 40]\n",
    "\n",
    "merged_array = []\n",
    "\n",
    "for i in range(len(array1)):\n",
    "    merged_array += [array1[i], array2[i]]\n",
    "\n",
    "print(merged_array)\n"
   ]
  },
  {
   "cell_type": "code",
   "execution_count": 1,
   "id": "85b70c7a",
   "metadata": {},
   "outputs": [
    {
     "name": "stdout",
     "output_type": "stream",
     "text": [
      "60\n"
     ]
    }
   ],
   "source": [
    "matrix = [\n",
    "    [1, 2, 3, 4, 5],\n",
    "    [6, 7, 8, 9, 10],\n",
    "    [11, 12, 13, 14, 15]\n",
    "]\n",
    "sum = 0\n",
    "for i in range(len(matrix)):\n",
    "    for j in range(len(matrix[0])):\n",
    "        if i == 1 or j == 4:  \n",
    "            sum += matrix[i][j]\n",
    "print(sum)"
   ]
  },
  {
   "cell_type": "code",
   "execution_count": 2,
   "id": "51bdc616",
   "metadata": {},
   "outputs": [
    {
     "name": "stdout",
     "output_type": "stream",
     "text": [
      "2\n",
      "9\n",
      "23\n"
     ]
    }
   ],
   "source": [
    "x=\"ABABCDABCABCDBCABBABABAABCD\"\n",
    "substring=\"ABCD\"\n",
    "for i in range(len(x)):\n",
    "    if x[i:i + len(substring)]==substring:\n",
    "        print(i)\n",
    "    elif i==len(x)-len(substring):\n",
    "        break"
   ]
  },
  {
   "cell_type": "code",
   "execution_count": 3,
   "id": "20fb9b1d",
   "metadata": {},
   "outputs": [
    {
     "name": "stdout",
     "output_type": "stream",
     "text": [
      "Enter the first number: 3\n",
      "Enter the second number: -11\n",
      "Result of multiplication: -33\n"
     ]
    }
   ],
   "source": [
    "def multiply(x, y):\n",
    "    if y == 0:\n",
    "        return 0\n",
    "    elif y < 0:\n",
    "        return -multiply(x, -y)\n",
    "    else:\n",
    "        return x + multiply(x, y - 1)\n",
    "\n",
    "x = int(input(\"Enter the first number: \"))\n",
    "y = int(input(\"Enter the second number: \"))\n",
    "\n",
    "result = multiply(x, y)\n",
    "print(\"Result of multiplication:\", result)"
   ]
  },
  {
   "cell_type": "code",
   "execution_count": 5,
   "id": "61006c91",
   "metadata": {},
   "outputs": [
    {
     "name": "stdout",
     "output_type": "stream",
     "text": [
      "Enter 1 for string OR 2 for number: 1\n",
      "Enter first string : MOM\n",
      "Enter second string: MMO\n",
      "Minimum number of swaps required: 1\n"
     ]
    }
   ],
   "source": [
    "n = int(input(\"Enter 1 for string OR 2 for number: \"))\n",
    "swaps = 0\n",
    "if n == 1:\n",
    "    s1 = input(\"Enter first string : \")\n",
    "    s2 = input(\"Enter second string: \")\n",
    "    if len(s1) == len(s2):\n",
    "        s1_list = list(s1)\n",
    "        s2_list = list(s2)\n",
    "        for i in range(len(s1)):\n",
    "            if s1_list[i] != s2_list[i]:\n",
    "                for j in range(i + 1, len(s2)):\n",
    "                    if s2_list[j] == s1_list[i]:\n",
    "                        s2_list[i], s2_list[j] = s2_list[j], s2_list[i]\n",
    "                        swaps += 1\n",
    "                        continue\n",
    "        print(\"Minimum number of swaps required:\", swaps)\n",
    "    else:\n",
    "        print(\"Strings are of different lengths.\")\n",
    "elif n == 2:\n",
    "    n1 = int(input(\"Enter first number : \"))\n",
    "    n2 = int(input(\"Enter second number: \"))\n",
    "    n1_str = str(n1)\n",
    "    n2_str = str(n2)\n",
    "    if len(n1_str) == len(n2_str):\n",
    "        n1_list = list(n1_str)\n",
    "        n2_list = list(n2_str)\n",
    "        for i in range(len(n1_str)):\n",
    "            if n1_list[i] != n2_list[i]:\n",
    "                for j in range(i + 1, len(n2_str)):\n",
    "                    if n2_list[j] == n1_list[i]:\n",
    "                        n2_list[i], n2_list[j] = n2_list[j], n2_list[i]\n",
    "                        swaps += 1\n",
    "                        continue\n",
    "        print(\"Minimum number of swaps required:\", swaps)\n",
    "    else:\n",
    "        print(\"Numbers have different numbers of digits.\")\n",
    "else:\n",
    "    print(\"Invalid choice\")"
   ]
  },
  {
   "cell_type": "code",
   "execution_count": 6,
   "id": "9d1fac0c",
   "metadata": {},
   "outputs": [
    {
     "name": "stdout",
     "output_type": "stream",
     "text": [
      "[0, 0, 0, 0, 0, 0, 1, 1, 1, 1, 2, 2, 2]\n"
     ]
    }
   ],
   "source": [
    "#a=[1,1,0,0,2,2,0,0,1,0,2,0,1]\n",
    "#output=[0,0,0,0,1,1,1,2,2,2]\n",
    "a = [1, 1, 0, 0, 2, 2, 0, 0, 1, 0, 2, 0, 1]\n",
    "\n",
    "def insertion_sort(a):\n",
    "    for i in range(1, len(a)):\n",
    "        key = a[i]\n",
    "        j = i - 1\n",
    "        while j >= 0 and key < a[j]:\n",
    "            a[j + 1] = a[j]\n",
    "            j -= 1\n",
    "        a[j + 1] = key\n",
    "\n",
    "insertion_sort(a)\n",
    "\n",
    "print(a)#Insertion Sort"
   ]
  },
  {
   "cell_type": "code",
   "execution_count": 7,
   "id": "742cc89a",
   "metadata": {},
   "outputs": [
    {
     "name": "stdout",
     "output_type": "stream",
     "text": [
      "Sorted array is: [0, 0, 0, 0, 0, 0, 1, 1, 1, 1, 2, 2, 2]\n"
     ]
    }
   ],
   "source": [
    "def bubble_sort(arr):\n",
    "    n = len(arr)\n",
    "    for i in range(n):\n",
    "        for j in range(0, n-i-1):\n",
    "            if arr[j] > arr[j+1]:\n",
    "                arr[j], arr[j+1] = arr[j+1], arr[j]\n",
    "\n",
    "my_list = [1, 1, 0, 0, 2, 2, 0, 0, 1, 0, 2, 0, 1]\n",
    "bubble_sort(my_list)\n",
    "print(\"Sorted array is:\", my_list)"
   ]
  },
  {
   "cell_type": "code",
   "execution_count": 8,
   "id": "a04144f5",
   "metadata": {},
   "outputs": [
    {
     "name": "stdout",
     "output_type": "stream",
     "text": [
      "Original String: shanmuka sai\n",
      "Capitalized String: Shanmuka Sai\n"
     ]
    }
   ],
   "source": [
    "def capitalize_words(input_string):\n",
    "    words = input_string.split() \n",
    "    capitalized_words = []\n",
    "\n",
    "    for word in words:\n",
    "        capitalized_word = \"\"\n",
    "        for i in range(len(word)):\n",
    "            if i == 0:\n",
    "                capitalized_word += word[i].upper()  \n",
    "            else:\n",
    "                capitalized_word += word[i].lower() \n",
    "        capitalized_words.append(capitalized_word)\n",
    "\n",
    "    return ' '.join(capitalized_words)  \n",
    "\n",
    "input_string = \"shanmuka sai\"\n",
    "capitalized_string = capitalize_words(input_string)\n",
    "print(\"Original String:\", input_string)\n",
    "print(\"Capitalized String:\", capitalized_string)"
   ]
  },
  {
   "cell_type": "code",
   "execution_count": 9,
   "id": "33c60050",
   "metadata": {},
   "outputs": [
    {
     "name": "stdout",
     "output_type": "stream",
     "text": [
      "Enter expression :{{()}}\n",
      "Balanced\n"
     ]
    }
   ],
   "source": [
    "#balance the parathesis:\n",
    "def balanced_parentheses(input_str):\n",
    "    stack = []\n",
    "    for char in input_str:\n",
    "        if char in '([{':\n",
    "            stack.append(char)\n",
    "        elif char in ')]}':\n",
    "            if not stack:\n",
    "                return False\n",
    "            top = stack.pop()\n",
    "            if char == ')' and top != '(' or \\\n",
    "               char == ']' and top != '[' or \\\n",
    "               char == '}' and top != '{':\n",
    "                return False\n",
    "    return not stack\n",
    "input_str=input(\"Enter expression :\")\n",
    "if balanced_parentheses(input_str):\n",
    "    print(\"Balanced\")\n",
    "else:\n",
    "    print(\"Unbalanced\")"
   ]
  },
  {
   "cell_type": "code",
   "execution_count": 10,
   "id": "74c9d7b7",
   "metadata": {},
   "outputs": [
    {
     "name": "stdout",
     "output_type": "stream",
     "text": [
      "Inorder traversal:\n",
      "20\n",
      "30\n",
      "40\n",
      "50\n",
      "60\n",
      "70\n",
      "80\n",
      "40 found in the tree.\n"
     ]
    }
   ],
   "source": [
    "class TreeNode:\n",
    "    def __init__(self, key):\n",
    "        self.left = None\n",
    "        self.right = None\n",
    "        self.val = key\n",
    "\n",
    "def insert(root, key):\n",
    "    if not root:\n",
    "        return TreeNode(key)\n",
    "    if key < root.val:\n",
    "        root.left = insert(root.left, key)\n",
    "    else:\n",
    "        root.right = insert(root.right, key)\n",
    "    return root\n",
    "\n",
    "def search(root, key):\n",
    "    if not root or root.val == key:\n",
    "        return root\n",
    "    if key < root.val:\n",
    "        return search(root.left, key)\n",
    "    return search(root.right, key)\n",
    "\n",
    "def inorder_traversal(root):\n",
    "    if root:\n",
    "        inorder_traversal(root.left)\n",
    "        print(root.val)\n",
    "        inorder_traversal(root.right)\n",
    "\n",
    "if __name__ == \"__main__\":\n",
    "    root = None\n",
    "    keys = [50, 30, 20, 40, 70, 60, 80]\n",
    "    for key in keys:\n",
    "        root = insert(root, key)\n",
    "\n",
    "    print(\"Inorder traversal:\")\n",
    "    inorder_traversal(root)\n",
    "\n",
    "    key_to_find = 40\n",
    "    result = search(root, key_to_find)\n",
    "    if result:\n",
    "        print(f\"{key_to_find} found in the tree.\")\n",
    "    else:\n",
    "        print(f\"{key_to_find} not found in the tree.\")"
   ]
  },
  {
   "cell_type": "code",
   "execution_count": 11,
   "id": "80b75d19",
   "metadata": {},
   "outputs": [
    {
     "name": "stdout",
     "output_type": "stream",
     "text": [
      "True\n"
     ]
    }
   ],
   "source": [
    "class Node:\n",
    "    def __init__(self, data):\n",
    "        self.data = data\n",
    "        self.next = None\n",
    "\n",
    "class LinkedList:\n",
    "    def __init__(self):\n",
    "        self.head = None\n",
    "\n",
    "    def append(self, data):\n",
    "        new_node = Node(data)\n",
    "        if not self.head:\n",
    "            self.head = new_node\n",
    "        else:\n",
    "            current = self.head\n",
    "            while current.next:\n",
    "                current = current.next\n",
    "            current.next = new_node\n",
    "\n",
    "    def is_circular(self):\n",
    "        if not self.head:\n",
    "            return False\n",
    "\n",
    "        slow_ptr = self.head\n",
    "        fast_ptr = self.head\n",
    "\n",
    "        while fast_ptr is not None and fast_ptr.next is not None:\n",
    "            slow_ptr = slow_ptr.next\n",
    "            fast_ptr = fast_ptr.next.next\n",
    "\n",
    "            if slow_ptr == fast_ptr:\n",
    "                return True\n",
    "\n",
    "        return False\n",
    "\n",
    "ll = LinkedList()\n",
    "ll.append(1)\n",
    "ll.append(1)\n",
    "ll.append(9)\n",
    "ll.append(4)\n",
    "ll.append(5)\n",
    "\n",
    "\n",
    "current = ll.head\n",
    "while current.next:\n",
    "    current = current.next\n",
    "current.next = ll.head.next\n",
    "\n",
    "print(ll.is_circular())"
   ]
  },
  {
   "cell_type": "code",
   "execution_count": 12,
   "id": "890b565f",
   "metadata": {},
   "outputs": [
    {
     "name": "stdout",
     "output_type": "stream",
     "text": [
      "11\n",
      "12\n",
      "1\n",
      "10\n"
     ]
    }
   ],
   "source": [
    "original_list = [11,12,1,11,10,11,1]\n",
    "unique_list = []\n",
    "for new in original_list:\n",
    "    if new not in unique_list:\n",
    "        unique_list.append(new)\n",
    "        print(new)"
   ]
  },
  {
   "cell_type": "code",
   "execution_count": 13,
   "id": "89c161e1",
   "metadata": {},
   "outputs": [
    {
     "name": "stdout",
     "output_type": "stream",
     "text": [
      "[1, 2, 3, 4, 5]\n"
     ]
    }
   ],
   "source": [
    "original_list = [1,1,1,1,2, 2,2,2,2, 3, 4, 4, 5]\n",
    "unique_list = list(set(original_list))\n",
    "print(unique_list)"
   ]
  },
  {
   "cell_type": "code",
   "execution_count": 14,
   "id": "59ef0f45",
   "metadata": {},
   "outputs": [
    {
     "name": "stdout",
     "output_type": "stream",
     "text": [
      "2 3\n",
      "a d\n",
      "a e\n",
      "a f\n",
      "b d\n",
      "b e\n",
      "b f\n",
      "c d\n",
      "c e\n",
      "c f\n"
     ]
    }
   ],
   "source": [
    "x={'1':[0,0,0],\n",
    "   '2':[\"a\",'b','c'],\n",
    "   '3':[\"d\",'e','f'],\n",
    "   '4':[\"g\",'h','i'],\n",
    "   '5':['j','k','l'],\n",
    "   '6':['m','n','0'],\n",
    "   '7':['p','q','r'],\n",
    "   '8':['s','t','u'],\n",
    "   '9':['v','w','z']}\n",
    "a,b=map(int,input().split())\n",
    "int1=str(a)\n",
    "int2=str(b)\n",
    "for i in range(3):\n",
    "    for j in range(3):\n",
    "        print(x[int1][i],x[int2][j])"
   ]
  },
  {
   "cell_type": "code",
   "execution_count": 15,
   "id": "036e3b99",
   "metadata": {},
   "outputs": [
    {
     "name": "stdout",
     "output_type": "stream",
     "text": [
      "1\n",
      "3\n",
      "8\n",
      "7\n",
      "5\n",
      "11\n",
      "13\n",
      "15\n"
     ]
    }
   ],
   "source": [
    "class Node:\n",
    "    def __init__(self, data):\n",
    "        self.data = data\n",
    "        self.left = None\n",
    "        self.right = None\n",
    "\n",
    "def print_alternate_levels(tree):\n",
    "    if tree is None:\n",
    "        return\n",
    "\n",
    "    i = 0\n",
    "    queue = []\n",
    "    queue.append(tree)\n",
    "\n",
    "    while queue:\n",
    "        node = queue.pop(0)\n",
    "\n",
    "        if i % 2 == 0:\n",
    "            print(node.data)\n",
    "\n",
    "        if node.left is not None:\n",
    "            queue.append(node.left)\n",
    "        if node.right is not None:\n",
    "            queue.append(node.right)\n",
    "\n",
    "        i += 1\n",
    "\n",
    "root = Node(1)\n",
    "root.left = Node(2)\n",
    "root.right = Node(3)\n",
    "root.left.left = Node(4)\n",
    "root.left.right = Node(8)\n",
    "root.right.left = Node(6)\n",
    "root.right.right = Node(7)\n",
    "root.left.left.left = Node(8)\n",
    "root.left.left.right = Node(5)\n",
    "root.left.right.left = Node(10)\n",
    "root.left.right.right = Node(11)\n",
    "root.right.left.left = Node(12)\n",
    "root.right.left.right = Node(13)\n",
    "root.right.right.left = Node(14)\n",
    "root.right.right.right = Node(15)\n",
    "\n",
    "print_alternate_levels(root)"
   ]
  },
  {
   "cell_type": "code",
   "execution_count": 16,
   "id": "f439bcf4",
   "metadata": {},
   "outputs": [
    {
     "name": "stdout",
     "output_type": "stream",
     "text": [
      "8 4\n",
      "8 2\n",
      "8 1\n",
      "4 2\n",
      "4 1\n",
      "2 1\n"
     ]
    }
   ],
   "source": [
    "a=[8,4,2,1]\n",
    "for i in range(len(a)):\n",
    "    for j in range(1,len(a)):\n",
    "        if a[i]>a[j] and i<j:\n",
    "            print(a[i],a[j])"
   ]
  },
  {
   "cell_type": "code",
   "execution_count": 17,
   "id": "61e513b5",
   "metadata": {},
   "outputs": [
    {
     "name": "stdout",
     "output_type": "stream",
     "text": [
      "8 4\n",
      "8 1\n",
      "16 4\n",
      "16 1\n",
      "4 1\n"
     ]
    }
   ],
   "source": [
    "a=[8,16,4,1]\n",
    "for i in range(len(a)):\n",
    "    for j in range(1,len(a)):\n",
    "        if a[i]>a[j] and i<j:\n",
    "            print(a[i],a[j])"
   ]
  },
  {
   "cell_type": "code",
   "execution_count": 18,
   "id": "f6c49ecd",
   "metadata": {},
   "outputs": [
    {
     "name": "stdout",
     "output_type": "stream",
     "text": [
      "4 8\n",
      "2 8\n",
      "1 8\n"
     ]
    }
   ],
   "source": [
    "a = [8, 4, 2, 1]\n",
    "min_val = a[0]\n",
    "\n",
    "for i in range(1, len(a)):\n",
    "    if a[i] < min_val:\n",
    "        print(a[i], min_val)\n",
    "    elif a[i] > min_val:\n",
    "        min_val = a[i]"
   ]
  },
  {
   "cell_type": "code",
   "execution_count": 20,
   "id": "4fb594bf",
   "metadata": {},
   "outputs": [
    {
     "name": "stdout",
     "output_type": "stream",
     "text": [
      "The ykS is eulB\n"
     ]
    }
   ],
   "source": [
    "def reverse_alternate_words(input_string):\n",
    "    words = input_string.split()\n",
    "    reversed_words = []\n",
    "    \n",
    "    for i in range(len(words)):\n",
    "        if i % 2 == 1:  \n",
    "            reversed_words.append(words[i][::-1])\n",
    "        else:\n",
    "            reversed_words.append(words[i])\n",
    "    \n",
    "    return ' '.join(reversed_words)\n",
    "\n",
    "input_string = \"The Sky is Blue\"\n",
    "result = reverse_alternate_words(input_string)\n",
    "print(result)"
   ]
  },
  {
   "cell_type": "code",
   "execution_count": 22,
   "id": "b5ba6d74",
   "metadata": {},
   "outputs": [
    {
     "name": "stdout",
     "output_type": "stream",
     "text": [
      "Enter a word: LOL\n",
      "LOL is a palindrome!\n"
     ]
    }
   ],
   "source": [
    "def is_palindrome(word):\n",
    "    return word == word[::-1]\n",
    "\n",
    "input_word = input(\"Enter a word: \")\n",
    "if is_palindrome(input_word):\n",
    "    print(f\"{input_word} is a palindrome!\")\n",
    "else:\n",
    "    print(f\"{input_word} is not a palindrome.\")"
   ]
  },
  {
   "cell_type": "code",
   "execution_count": 23,
   "id": "5145b210",
   "metadata": {},
   "outputs": [
    {
     "name": "stdout",
     "output_type": "stream",
     "text": [
      "Enter a string: SEND\n",
      "SEND\n",
      "SEDN\n",
      "SNED\n",
      "SNDE\n",
      "SDEN\n",
      "SDNE\n",
      "ESND\n",
      "ESDN\n",
      "ENSD\n",
      "ENDS\n",
      "EDSN\n",
      "EDNS\n",
      "NSED\n",
      "NSDE\n",
      "NESD\n",
      "NEDS\n",
      "NDSE\n",
      "NDES\n",
      "DSEN\n",
      "DSNE\n",
      "DESN\n",
      "DENS\n",
      "DNSE\n",
      "DNES\n"
     ]
    }
   ],
   "source": [
    "def get_permutations(string):\n",
    "    permutations = []\n",
    "    if len(string) <= 1:\n",
    "        return [string]\n",
    "    for i in range(len(string)):\n",
    "        current_element = string[i]\n",
    "        remaining_elements = string[:i] + string[i + 1:]\n",
    "        for i in get_permutations(remaining_elements):\n",
    "            permutations.append(current_element + i)\n",
    "    return permutations\n",
    "s = input(\"Enter a string: \")\n",
    "result = get_permutations(s)\n",
    "for i in result:\n",
    "    print(i)"
   ]
  },
  {
   "cell_type": "code",
   "execution_count": 26,
   "id": "4c7c9eb5",
   "metadata": {},
   "outputs": [
    {
     "name": "stdout",
     "output_type": "stream",
     "text": [
      "The linked list does not have a cycle.\n"
     ]
    }
   ],
   "source": [
    "class ListNode:\n",
    "    def __init__(self, value):\n",
    "        self.value = value\n",
    "        self.next = None\n",
    "\n",
    "class LinkedList:\n",
    "    def __init__(self):\n",
    "        self.head = None\n",
    "\n",
    "    def append(self, value):\n",
    "        new_node = ListNode(value)\n",
    "        if not self.head:\n",
    "            self.head = new_node\n",
    "            return\n",
    "        current = self.head\n",
    "        while current.next:\n",
    "            current = current.next\n",
    "        current.next = new_node\n",
    "\n",
    "    def has_cycle(self):\n",
    "        if not self.head:\n",
    "            return False\n",
    "\n",
    "        slow = self.head\n",
    "        fast = self.head\n",
    "\n",
    "        while fast and fast.next:\n",
    "            slow = slow.next\n",
    "            fast = fast.next.next\n",
    "\n",
    "            if slow == fast:\n",
    "                return True\n",
    "\n",
    "        return False\n",
    "\n",
    "# Example usage\n",
    "if __name__ == \"__main__\":\n",
    "    linked_list = LinkedList()\n",
    "    linked_list.append(1)\n",
    "    linked_list.append(2)\n",
    "    linked_list.append(3)\n",
    "    linked_list.append(4)\n",
    "    linked_list.append(5)\n",
    "    linked_list.append(11)\n",
    "    linked_list.append(12)\n",
    "    linked_list.append(13)\n",
    "    linked_list.append(14)\n",
    "    linked_list.append(15)\n",
    "    \n",
    "    # Uncomment the following line to create a circular linked list:\n",
    "    # linked_list.head.next.next.next.next.next = linked_list.head\n",
    "\n",
    "    has_cycle = linked_list.has_cycle()\n",
    "    if has_cycle:\n",
    "        print(\"The linked list has a cycle.\")\n",
    "    else:\n",
    "        print(\"The linked list does not have a cycle.\")\n"
   ]
  },
  {
   "cell_type": "code",
   "execution_count": 27,
   "id": "6f7852a4",
   "metadata": {},
   "outputs": [
    {
     "name": "stdout",
     "output_type": "stream",
     "text": [
      "0\n"
     ]
    }
   ],
   "source": [
    "l1=\"11011\"\n",
    "l2=\"11110\"\n",
    "s1=[]\n",
    "s2=[]\n",
    "sum=0\n",
    "for x in l1:\n",
    "    s1.append(x)\n",
    "for y in l2:\n",
    "    s2.append(y)\n",
    "for i in range(len(s1)):\n",
    "        if s1[i]!=s2[i]:\n",
    "            if s1[i]==s2[i+1]:\n",
    "                s2[i]=s2[i+1]\n",
    "                s2[i+1]=s2[i]\n",
    "                sum=sum+1\n",
    "        if i+1==len(s1)-1:\n",
    "            break\n",
    "print(sum)"
   ]
  },
  {
   "cell_type": "code",
   "execution_count": 28,
   "id": "98a88241",
   "metadata": {},
   "outputs": [
    {
     "name": "stdout",
     "output_type": "stream",
     "text": [
      "56\n"
     ]
    }
   ],
   "source": [
    "x=[[1,2,3,4,5],[6,7,8,9,10],[11,12,13,14,15]]\n",
    "sum=0\n",
    "for i in range(len(x)):\n",
    "    for j in range(len(x[0])):\n",
    "        if i==3//2 or j==5//2:\n",
    "            sum=sum+x[i][j]\n",
    "print(sum)"
   ]
  },
  {
   "cell_type": "code",
   "execution_count": 29,
   "id": "f5955e11",
   "metadata": {},
   "outputs": [
    {
     "name": "stdout",
     "output_type": "stream",
     "text": [
      "[1, 1, 1, 1]\n",
      "[1, 1, 0, 1]\n",
      "[1, 1, 1, 1]\n"
     ]
    }
   ],
   "source": [
    "def update_boundary_to_1(matrix):\n",
    "    if not matrix:\n",
    "        return matrix\n",
    "\n",
    "    \n",
    "    num_rows = len(matrix)\n",
    "    num_cols = len(matrix[0])\n",
    "\n",
    "    \n",
    "    for i in range(num_cols):\n",
    "        matrix[0][i] = 1\n",
    "        matrix[num_rows - 1][i] = 1\n",
    "\n",
    "    \n",
    "    for i in range(1, num_rows - 1):\n",
    "        matrix[i][0] = 1\n",
    "        matrix[i][num_cols - 1] = 1\n",
    "\n",
    "    return matrix\n",
    "\n",
    "\n",
    "matrix = [\n",
    "    [0, 1, 1, 1],\n",
    "    [1, 1, 0, 1],\n",
    "    [1, 0, 0, 1]\n",
    "]\n",
    "\n",
    "\n",
    "updated_matrix = update_boundary_to_1(matrix)\n",
    "\n",
    "\n",
    "for row in updated_matrix:\n",
    "    print(row)"
   ]
  },
  {
   "cell_type": "code",
   "execution_count": null,
   "id": "5bf4e729",
   "metadata": {},
   "outputs": [],
   "source": []
  }
 ],
 "metadata": {
  "kernelspec": {
   "display_name": "Python 3 (ipykernel)",
   "language": "python",
   "name": "python3"
  },
  "language_info": {
   "codemirror_mode": {
    "name": "ipython",
    "version": 3
   },
   "file_extension": ".py",
   "mimetype": "text/x-python",
   "name": "python",
   "nbconvert_exporter": "python",
   "pygments_lexer": "ipython3",
   "version": "3.11.4"
  }
 },
 "nbformat": 4,
 "nbformat_minor": 5
}
